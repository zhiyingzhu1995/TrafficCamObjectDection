{
 "cells": [
  {
   "cell_type": "code",
   "execution_count": 4,
   "metadata": {
    "ExecuteTime": {
     "end_time": "2021-11-10T19:32:11.921050Z",
     "start_time": "2021-11-10T19:32:11.907210Z"
    }
   },
   "outputs": [],
   "source": [
    "import os,glob\n",
    "import numpy as np\n",
    "from PIL import Image\n",
    "import shutil"
   ]
  },
  {
   "cell_type": "code",
   "execution_count": 5,
   "metadata": {
    "ExecuteTime": {
     "end_time": "2021-11-10T19:32:12.411582Z",
     "start_time": "2021-11-10T19:32:12.407434Z"
    }
   },
   "outputs": [],
   "source": [
    "os.chdir('/Users/zhiying/OneDrive - The City College of New York/capstone project/YOLO4/unlabel_scooter_biker')"
   ]
  },
  {
   "cell_type": "code",
   "execution_count": 46,
   "metadata": {
    "ExecuteTime": {
     "end_time": "2021-11-10T19:14:18.749493Z",
     "start_time": "2021-11-10T19:14:18.738597Z"
    }
   },
   "outputs": [],
   "source": [
    "# get the name of the file in that folder\n",
    "fileList = []\n",
    "for file in glob.glob(\"*.jpeg\"):\n",
    "    fileList.append(file)"
   ]
  },
  {
   "cell_type": "code",
   "execution_count": 47,
   "metadata": {
    "ExecuteTime": {
     "end_time": "2021-11-10T19:14:21.257541Z",
     "start_time": "2021-11-10T19:14:21.243543Z"
    }
   },
   "outputs": [
    {
     "data": {
      "text/plain": [
       "['biker_00bikeslede-articleLarge.jpeg',\n",
       " 'biker_5b9a79cd254b5.jpeg',\n",
       " 'biker_05_18_20bicycle-1.jpeg',\n",
       " 'biker_00nyunrest-bikeprotests--03-mobileMasterAt3x.jpeg',\n",
       " 'biker_-bike-lanes-that-aren-t-protected-by-delineator-posts-emma-lee-whyy.jpeg']"
      ]
     },
     "execution_count": 47,
     "metadata": {},
     "output_type": "execute_result"
    }
   ],
   "source": [
    "fileList"
   ]
  },
  {
   "cell_type": "code",
   "execution_count": 51,
   "metadata": {
    "ExecuteTime": {
     "end_time": "2021-11-10T19:20:00.051092Z",
     "start_time": "2021-11-10T19:20:00.035904Z"
    }
   },
   "outputs": [
    {
     "name": "stdout",
     "output_type": "stream",
     "text": [
      "10\n",
      "20\n",
      "30\n",
      "40\n",
      "50\n",
      "60\n",
      "70\n",
      "80\n",
      "90\n"
     ]
    }
   ],
   "source": [
    "for number in range(10,100,10):\n",
    "    print(number)"
   ]
  },
  {
   "cell_type": "code",
   "execution_count": 35,
   "metadata": {
    "ExecuteTime": {
     "end_time": "2021-11-10T18:36:07.203747Z",
     "start_time": "2021-11-10T18:36:02.305828Z"
    }
   },
   "outputs": [],
   "source": [
    "# get the name of the file in that folder\n",
    "fileList = []\n",
    "for file in glob.glob(\"*.jpeg\"):\n",
    "    fileList.append(file)\n",
    "    \n",
    "    \n",
    "# iterate each image in that folder and generate 10 different resolution \n",
    "for file in fileList:\n",
    "    image_path = file\n",
    "    filename = image_path.split(\".\")[0]\n",
    "    image_file = Image.open(image_path)\n",
    "    for number in range(0,100,10):\n",
    "        image_file.save(filename+\"_quality_\"+str(number)+\".jpeg\", quality=number)\n",
    "   \n",
    "    "
   ]
  },
  {
   "cell_type": "code",
   "execution_count": 42,
   "metadata": {
    "ExecuteTime": {
     "end_time": "2021-11-10T19:11:36.191234Z",
     "start_time": "2021-11-10T19:11:36.164928Z"
    }
   },
   "outputs": [],
   "source": [
    "# get a list of txt file and keep adding new txt files for the images with change of resolution\n",
    "path='/Users/zhiying/OneDrive - The City College of New York/capstone project/YOLO4/unlabel_scooter_biker'\n",
    "\n",
    "for _,file in enumerate(os.listdir(path)):\n",
    "    filename = file.split(\".\")[0]\n",
    "    if file == \"biker_00bikeslede-articleLarge.txt\":\n",
    "        for number in range(0,100,10):\n",
    "            shutil.copyfile(path+'/'+file, path+'/'+filename + \"_quality_\"+str(number)+\".txt\")\n",
    "\n",
    "        # for count, filename in enumerate(os.listdir(path)):\n",
    "#     dst = \"biker_\" + filename # destination\n",
    "#     src = path + \"/\" + filename # source\n",
    "#     dst = path + \"/\" + dst\n",
    "#     os.rename(src,dst)\n",
    "# print(\"finish renaming\")"
   ]
  },
  {
   "cell_type": "code",
   "execution_count": 48,
   "metadata": {
    "ExecuteTime": {
     "end_time": "2021-11-10T19:14:26.650503Z",
     "start_time": "2021-11-10T19:14:26.553038Z"
    }
   },
   "outputs": [],
   "source": [
    "# iterate each image in that folder and generate 10 different resolution \n",
    "for file in fileList:\n",
    "    image_path = file\n",
    "    filename = image_path.split(\".\")[0]\n",
    "    \n",
    "    if image_path == \"biker_00bikeslede-articleLarge.jpeg\":\n",
    "        image_file = Image.open(image_path)\n",
    "        for number in range(0,100,10):\n",
    "            image_file.save(filename+\"_quality_\"+str(number)+\".jpeg\", quality=number)\n",
    "\n",
    "    "
   ]
  },
  {
   "cell_type": "markdown",
   "metadata": {},
   "source": [
    "## Generate different images resolution and create the corresponding txt file with rename"
   ]
  },
  {
   "cell_type": "code",
   "execution_count": 6,
   "metadata": {
    "ExecuteTime": {
     "end_time": "2021-11-10T19:38:51.108459Z",
     "start_time": "2021-11-10T19:32:16.483740Z"
    }
   },
   "outputs": [
    {
     "name": "stdout",
     "output_type": "stream",
     "text": [
      "finish generating different resolution of images\n"
     ]
    }
   ],
   "source": [
    "os.chdir('/Users/zhiying/OneDrive - The City College of New York/capstone project/images')\n",
    "\n",
    "# get the name of the file in that folder\n",
    "fileList = []\n",
    "for file in glob.glob(\"*.jpeg\"):\n",
    "    fileList.append(file)\n",
    "\n",
    "# iterate each image in that folder and generate 10 different resolution \n",
    "for file in fileList:\n",
    "    image_path = file\n",
    "    filename = image_path.split(\".\")[0]\n",
    "    try:\n",
    "        image_file = Image.open(image_path)\n",
    "        for number in range(10,100,10):\n",
    "            image_file.save(filename+\"_quality_\"+str(number)+\".jpeg\", quality=number)\n",
    "    except:\n",
    "        pass\n",
    "\n",
    "print(\"finish generating different resolution of images\")\n",
    "    "
   ]
  },
  {
   "cell_type": "markdown",
   "metadata": {},
   "source": [
    "## create the corresponding txt file with rename for each image resolution"
   ]
  },
  {
   "cell_type": "code",
   "execution_count": 7,
   "metadata": {
    "ExecuteTime": {
     "end_time": "2021-11-10T19:46:03.070244Z",
     "start_time": "2021-11-10T19:45:47.289013Z"
    }
   },
   "outputs": [
    {
     "name": "stdout",
     "output_type": "stream",
     "text": [
      "finish generating txt files for different resolution of images\n"
     ]
    }
   ],
   "source": [
    "# get a list of txt file and keep adding new txt files for the images with change of resolution\n",
    "path='/Users/zhiying/OneDrive - The City College of New York/capstone project/images'\n",
    "\n",
    "for _,file in enumerate(os.listdir(path)):\n",
    "    filename = file.split(\".\")[0]\n",
    "    if \".txt\" in file:\n",
    "        for number in range(10,100,10):\n",
    "            try:\n",
    "                shutil.copyfile(path+'/'+file, path+'/'+filename + \"_quality_\"+str(number)+\".txt\")\n",
    "            except:\n",
    "                pass\n",
    "print(\"finish generating txt files for different resolution of images\")"
   ]
  },
  {
   "cell_type": "code",
   "execution_count": null,
   "metadata": {},
   "outputs": [],
   "source": []
  }
 ],
 "metadata": {
  "hide_input": false,
  "kernelspec": {
   "display_name": "Python 3",
   "language": "python",
   "name": "python3"
  },
  "language_info": {
   "codemirror_mode": {
    "name": "ipython",
    "version": 3
   },
   "file_extension": ".py",
   "mimetype": "text/x-python",
   "name": "python",
   "nbconvert_exporter": "python",
   "pygments_lexer": "ipython3",
   "version": "3.8.3"
  },
  "toc": {
   "base_numbering": 1,
   "nav_menu": {},
   "number_sections": true,
   "sideBar": true,
   "skip_h1_title": false,
   "title_cell": "Table of Contents",
   "title_sidebar": "Contents",
   "toc_cell": false,
   "toc_position": {},
   "toc_section_display": true,
   "toc_window_display": false
  }
 },
 "nbformat": 4,
 "nbformat_minor": 4
}
