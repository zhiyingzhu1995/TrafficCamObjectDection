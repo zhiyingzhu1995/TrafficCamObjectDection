{
 "cells": [
  {
   "cell_type": "code",
   "execution_count": 2,
   "metadata": {
    "ExecuteTime": {
     "end_time": "2021-11-09T02:33:46.076674Z",
     "start_time": "2021-11-09T02:33:46.072517Z"
    }
   },
   "outputs": [],
   "source": [
    "import glob, os"
   ]
  },
  {
   "cell_type": "code",
   "execution_count": 44,
   "metadata": {
    "ExecuteTime": {
     "end_time": "2021-10-24T16:28:47.196897Z",
     "start_time": "2021-10-24T16:28:47.192515Z"
    }
   },
   "outputs": [],
   "source": [
    "os.chdir('/Users/zhiying/OneDrive - The City College of New York/capstone project/Object Dection/bicyclists images')\n",
    "fileList = []\n",
    "for file in glob.glob(\"*.txt\"):\n",
    "    fileList.append(file)"
   ]
  },
  {
   "cell_type": "code",
   "execution_count": 47,
   "metadata": {
    "ExecuteTime": {
     "end_time": "2021-10-24T16:28:55.075200Z",
     "start_time": "2021-10-24T16:28:55.049148Z"
    }
   },
   "outputs": [
    {
     "name": "stdout",
     "output_type": "stream",
     "text": [
      "0 0.157000 0.642999 0.270000 0.648461\n",
      "0 0.363333 0.626614 0.189333 0.434955\n",
      "0 0.584667 0.601291 0.117333 0.382324\n",
      "0 0.694333 0.650447 0.132667 0.407150\n",
      "0 0.830667 0.589871 0.084000 0.337637\n",
      "0 0.941000 0.566038 0.066000 0.274081\n",
      "\n"
     ]
    }
   ],
   "source": [
    "\n",
    "file = open(\"8538756822_5bfd897956_k-1500x1007.txt\",\"r\")\n",
    "replacement = \"\"\n",
    "for line in file:\n",
    "    line = line.split(\" \")[1:]\n",
    "    new_line = \"0 \"+\" \".join(line)\n",
    "    replacement = replacement + new_line\n",
    "print(replacement)\n",
    "\n",
    "file.close()\n",
    "fout = open(\"8538756822_5bfd897956_k-1500x1007.txt\",\"w\")\n",
    "fout.write(replacement)\n",
    "fout.close()"
   ]
  },
  {
   "cell_type": "code",
   "execution_count": 10,
   "metadata": {
    "ExecuteTime": {
     "end_time": "2021-10-24T16:56:53.900233Z",
     "start_time": "2021-10-24T16:56:53.814845Z"
    }
   },
   "outputs": [
    {
     "name": "stdout",
     "output_type": "stream",
     "text": [
      "finish renaming\n"
     ]
    }
   ],
   "source": [
    "path = '/Users/zhiying/OneDrive - The City College of New York/capstone project/Object Dection/bicyclists images'\n",
    "# print(path)\n",
    "for count, filename in enumerate(os.listdir(path)):\n",
    "    dst = \"biker_\" + filename # destination\n",
    "    src = path + \"/\" + filename # source\n",
    "    dst = path + \"/\" + dst\n",
    "    os.rename(src,dst)\n",
    "print(\"finish renaming\")\n",
    "    "
   ]
  },
  {
   "cell_type": "markdown",
   "metadata": {},
   "source": [
    "# compare the video image resolution and adjust the images to that resolution"
   ]
  },
  {
   "cell_type": "code",
   "execution_count": null,
   "metadata": {},
   "outputs": [],
   "source": [
    "from PIL import Image\n",
    "from PIL import ImageChops\n",
    " \n",
    "img1 = Image.open(\"file1\")\n",
    "img2 = Image.open(\"file2\")\n",
    " \n",
    "diff = ImageChops.difference(im2, im1)\n",
    " \n",
    "diff.save(\"file3\")"
   ]
  },
  {
   "cell_type": "markdown",
   "metadata": {},
   "source": [
    "# Create different resolution of the image for training"
   ]
  },
  {
   "cell_type": "code",
   "execution_count": null,
   "metadata": {},
   "outputs": [],
   "source": [
    "# Import the Images module from pillow\n",
    "from PIL import Image\n",
    "  \n",
    "# Open the image by specifying the image path.\n",
    "image_path = \"image_name.jpeg\"\n",
    "image_file = Image.open(image_path)\n",
    "  \n",
    "# the default\n",
    "image_file.save(\"image_name.jpg\", quality=95)\n",
    "  \n",
    "# Changing the image resolution using quality parameter\n",
    "# Example-1\n",
    "image_file.save(\"image_name2.jpg\", quality=25)\n",
    "  \n",
    "# Example-2\n",
    "image_file.save(\"image_name3.jpg\", quality=1)"
   ]
  },
  {
   "cell_type": "markdown",
   "metadata": {},
   "source": [
    "## Change Biker labels to 0"
   ]
  },
  {
   "cell_type": "code",
   "execution_count": 11,
   "metadata": {
    "ExecuteTime": {
     "end_time": "2021-11-09T03:00:12.787492Z",
     "start_time": "2021-11-09T03:00:12.508376Z"
    }
   },
   "outputs": [
    {
     "name": "stdout",
     "output_type": "stream",
     "text": [
      "done editing biker\n"
     ]
    }
   ],
   "source": [
    "os.chdir('/Users/zhiying/OneDrive - The City College of New York/capstone project/Traffic_Video_1_BikerScooter_Labelled')\n",
    "fileList = []\n",
    "for file in glob.glob(\"*.txt\"):\n",
    "    fileList.append(file)\n",
    "    \n",
    "    \n",
    "for f in fileList:\n",
    "    file = open(f,\"r\")\n",
    "    replacement = \"\"\n",
    "    for line in file:\n",
    "        line = line.split(\" \")[1:]\n",
    "        new_line = \"0 \"+ \" \".join(line) # replace 0 to indicate bikers or 81 to indicate biker\n",
    "        replacement = replacement + new_line\n",
    "    file.close()\n",
    "    fout = open(f,\"w\")\n",
    "    fout.write(replacement)\n",
    "    fout.close()\n",
    "print(\"done editing biker\")    \n",
    "        "
   ]
  },
  {
   "cell_type": "markdown",
   "metadata": {},
   "source": [
    "## Change Scooter Rider labels to 1"
   ]
  },
  {
   "cell_type": "code",
   "execution_count": 2,
   "metadata": {
    "ExecuteTime": {
     "end_time": "2021-11-08T21:35:02.552632Z",
     "start_time": "2021-11-08T21:35:01.403537Z"
    }
   },
   "outputs": [
    {
     "name": "stdout",
     "output_type": "stream",
     "text": [
      "done editing scooter rider\n"
     ]
    }
   ],
   "source": [
    "os.chdir('/Users/zhiying/OneDrive - The City College of New York/capstone project/images')\n",
    "\n",
    "fileList = []\n",
    "for file in glob.glob(\"*.txt\"):\n",
    "    fileList.append(file)\n",
    "    \n",
    "    \n",
    "for f in fileList:\n",
    "    file = open(f,\"r\")\n",
    "    replacement = \"\"\n",
    "    for line in file:\n",
    "        line = line.split(\" \")\n",
    "        if line[0] == \"80\": # this means a biker is detected，change that to 80\n",
    "            line = line[1:]\n",
    "            new_line = \"0 \"+\" \".join(line)\n",
    "            replacement = replacement + new_line\n",
    "        if line[0] == \"81\": # this means a scooter is detected，change that to 81\n",
    "            line = line[1:]\n",
    "            new_line = \"1 \"+\" \".join(line)\n",
    "            replacement = replacement + new_line\n",
    "    file.close()\n",
    "    fout = open(f,\"w\")\n",
    "    fout.write(replacement)\n",
    "    fout.close()\n",
    "print(\"done editing scooter rider\") "
   ]
  },
  {
   "cell_type": "code",
   "execution_count": 12,
   "metadata": {
    "ExecuteTime": {
     "end_time": "2021-11-09T03:00:48.315397Z",
     "start_time": "2021-11-09T03:00:48.106835Z"
    }
   },
   "outputs": [
    {
     "name": "stdout",
     "output_type": "stream",
     "text": [
      "done editing scooter rider\n"
     ]
    }
   ],
   "source": [
    "os.chdir('/Users/zhiying/OneDrive - The City College of New York/capstone project/Traffic_Video_1_Scooter_Labelled')\n",
    "\n",
    "fileList = []\n",
    "for file in glob.glob(\"*.txt\"):\n",
    "    fileList.append(file)\n",
    "    \n",
    "    \n",
    "for f in fileList:\n",
    "    file = open(f,\"r\")\n",
    "    replacement = \"\"\n",
    "    for line in file:\n",
    "        line = line.split(\" \")\n",
    "        if line[0] == \"80\": # this means a biker is detected，change that to 80\n",
    "            line = line[1:]\n",
    "            new_line = \"0 \"+\" \".join(line)\n",
    "            replacement = replacement + new_line\n",
    "        if line[0] == \"81\": # this means a scooter is detected，change that to 81\n",
    "            line = line[1:]\n",
    "            new_line = \"1 \"+\" \".join(line)\n",
    "            replacement = replacement + new_line\n",
    "    file.close()\n",
    "    fout = open(f,\"w\")\n",
    "    fout.write(replacement)\n",
    "    fout.close()\n",
    "print(\"done editing scooter rider\") "
   ]
  },
  {
   "cell_type": "markdown",
   "metadata": {},
   "source": [
    "## Change each image file name - Biker"
   ]
  },
  {
   "cell_type": "code",
   "execution_count": 10,
   "metadata": {
    "ExecuteTime": {
     "end_time": "2021-11-09T02:38:39.107968Z",
     "start_time": "2021-11-09T02:38:38.682224Z"
    }
   },
   "outputs": [
    {
     "name": "stdout",
     "output_type": "stream",
     "text": [
      "finish renaming\n"
     ]
    }
   ],
   "source": [
    "path = '/Users/zhiying/OneDrive - The City College of New York/capstone project/Object Dection/images'\n",
    "newPath = '/Users/zhiying/OneDrive - The City College of New York/capstone project/Object Dection/images_renamed'\n",
    "\n",
    "for count, filename in enumerate(os.listdir(path)):\n",
    "    if 'jpg' in filename:\n",
    "        dst = filename.split(\".\")[0]\n",
    "        dst = dst +\".jpeg\" \n",
    "        src = path + \"/\" + filename # source\n",
    "        new_dst = newPath + \"/\" + dst\n",
    "        os.rename(src,new_dst)\n",
    "    else:\n",
    "        dst = filename # destination\n",
    "        src = path + \"/\" + filename # source\n",
    "        dst = newPath + \"/\" + dst\n",
    "        os.rename(src,dst)\n",
    "#     src = path + \"/\" + filename # source\n",
    "#     dst = newPath + \"/\" + dst\n",
    "#     os.rename(src,dst)\n",
    "    \n",
    "print(\"finish renaming\")\n",
    "    "
   ]
  },
  {
   "cell_type": "code",
   "execution_count": null,
   "metadata": {},
   "outputs": [],
   "source": [
    "path = '/Users/zhiying/OneDrive - The City College of New York/capstone project/Object Dection/bicyclists images'\n",
    "\n",
    "for count, filename in enumerate(os.listdir(path)):\n",
    "    dst = \"biker_\" + filename # destination\n",
    "    src = path + \"/\" + filename # source\n",
    "    dst = path + \"/\" + dst\n",
    "    os.rename(src,dst)\n",
    "print(\"finish renaming\")\n",
    "    "
   ]
  },
  {
   "cell_type": "markdown",
   "metadata": {},
   "source": [
    "## Change each image file name - Scooter"
   ]
  },
  {
   "cell_type": "code",
   "execution_count": 11,
   "metadata": {
    "ExecuteTime": {
     "end_time": "2021-10-24T16:59:29.227598Z",
     "start_time": "2021-10-24T16:59:28.946167Z"
    }
   },
   "outputs": [
    {
     "name": "stdout",
     "output_type": "stream",
     "text": [
      "finish renaming\n"
     ]
    }
   ],
   "source": [
    "path = '/Users/zhiying/OneDrive - The City College of New York/capstone project/Object Dection/scooter images'\n",
    "\n",
    "for count, filename in enumerate(os.listdir(path)):\n",
    "    dst = \"scoot_\" + filename # destination\n",
    "    src = path + \"/\" + filename # source\n",
    "    dst = path + \"/\" + dst\n",
    "    os.rename(src,dst)\n",
    "print(\"finish renaming\")\n",
    "    "
   ]
  },
  {
   "cell_type": "code",
   "execution_count": null,
   "metadata": {},
   "outputs": [],
   "source": []
  }
 ],
 "metadata": {
  "hide_input": false,
  "kernelspec": {
   "display_name": "Python 3",
   "language": "python",
   "name": "python3"
  },
  "language_info": {
   "codemirror_mode": {
    "name": "ipython",
    "version": 3
   },
   "file_extension": ".py",
   "mimetype": "text/x-python",
   "name": "python",
   "nbconvert_exporter": "python",
   "pygments_lexer": "ipython3",
   "version": "3.8.3"
  },
  "toc": {
   "base_numbering": 1,
   "nav_menu": {},
   "number_sections": true,
   "sideBar": true,
   "skip_h1_title": false,
   "title_cell": "Table of Contents",
   "title_sidebar": "Contents",
   "toc_cell": false,
   "toc_position": {},
   "toc_section_display": true,
   "toc_window_display": false
  }
 },
 "nbformat": 4,
 "nbformat_minor": 4
}
