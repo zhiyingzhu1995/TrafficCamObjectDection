{
 "cells": [
  {
   "cell_type": "code",
   "execution_count": 34,
   "metadata": {
    "ExecuteTime": {
     "end_time": "2021-11-07T02:42:13.120178Z",
     "start_time": "2021-11-07T02:42:13.116207Z"
    }
   },
   "outputs": [],
   "source": [
    "import glob, os"
   ]
  },
  {
   "cell_type": "markdown",
   "metadata": {},
   "source": [
    "## Moving Biker images to another folder"
   ]
  },
  {
   "cell_type": "code",
   "execution_count": 41,
   "metadata": {
    "ExecuteTime": {
     "end_time": "2021-11-07T02:43:46.020173Z",
     "start_time": "2021-11-07T02:43:45.986023Z"
    }
   },
   "outputs": [],
   "source": [
    "os.chdir('/Users/zhiying/OneDrive - The City College of New York/capstone project/Traffic_Video_1_BikerScooter')\n",
    "fileList = []\n",
    "\n",
    "# add the labelled txt file to the fileList\n",
    "for file in glob.glob(\"*.txt\"):\n",
    "    fileList.append(file)\n",
    "\n",
    "# add the labelled image file to the fileList\n",
    "fileList += [f.split(\".\")[0] + \".jpeg\" for f in fileList]\n",
    "\n",
    "# remove the \"class.jpeg\" image\n",
    "fileList.remove('classes.jpeg')"
   ]
  },
  {
   "cell_type": "code",
   "execution_count": 45,
   "metadata": {
    "ExecuteTime": {
     "end_time": "2021-11-07T02:45:53.340567Z",
     "start_time": "2021-11-07T02:45:53.335964Z"
    }
   },
   "outputs": [
    {
     "name": "stdout",
     "output_type": "stream",
     "text": [
      "There is 677 number of  labelled\n"
     ]
    }
   ],
   "source": [
    "print(f\"There is {len(fileList)} number of  labelled\")\n",
    "# print(f\"There is {len(fileL)} number of biker images that are labelled\")"
   ]
  },
  {
   "cell_type": "code",
   "execution_count": 48,
   "metadata": {
    "ExecuteTime": {
     "end_time": "2021-11-07T02:47:53.096696Z",
     "start_time": "2021-11-07T02:47:52.857922Z"
    }
   },
   "outputs": [
    {
     "name": "stdout",
     "output_type": "stream",
     "text": [
      "finish moving lablled biker images\n"
     ]
    }
   ],
   "source": [
    "# move the images to a new location\n",
    "sourcePath = '/Users/zhiying/OneDrive - The City College of New York/capstone project/Traffic_Video_1_BikerScooter'\n",
    "dstPath = '/Users/zhiying/OneDrive - The City College of New York/capstone project/Traffic_Video_1_BikerScooter_Labelled'\n",
    "\n",
    "# print(path)\n",
    "for count, filename in enumerate(fileList):\n",
    "    dst = filename # destination\n",
    "    src = sourcePath + \"/\" + filename # source\n",
    "    dst = dstPath + \"/\" + dst\n",
    "    os.rename(src,dst)\n",
    "print(\"finish moving lablled biker images\")"
   ]
  },
  {
   "cell_type": "markdown",
   "metadata": {},
   "source": [
    "## Moving Scooter images to another folder"
   ]
  },
  {
   "cell_type": "code",
   "execution_count": 49,
   "metadata": {
    "ExecuteTime": {
     "end_time": "2021-11-07T02:48:59.337829Z",
     "start_time": "2021-11-07T02:48:59.328374Z"
    }
   },
   "outputs": [],
   "source": [
    "os.chdir('/Users/zhiying/OneDrive - The City College of New York/capstone project/Traffic_Video_1_Scooter')\n",
    "fileList = []\n",
    "\n",
    "# add the labelled txt file to the fileList\n",
    "for file in glob.glob(\"*.txt\"):\n",
    "    fileList.append(file)\n",
    "\n",
    "# add the labelled image file to the fileList\n",
    "fileList += [f.split(\".\")[0] + \".jpeg\" for f in fileList]\n",
    "\n",
    "# remove the \"class.jpeg\" image\n",
    "fileList.remove('classes.jpeg')"
   ]
  },
  {
   "cell_type": "code",
   "execution_count": 50,
   "metadata": {
    "ExecuteTime": {
     "end_time": "2021-11-07T02:49:04.979373Z",
     "start_time": "2021-11-07T02:49:04.975180Z"
    }
   },
   "outputs": [
    {
     "name": "stdout",
     "output_type": "stream",
     "text": [
      "There is 745 number of  labelled\n"
     ]
    }
   ],
   "source": [
    "print(f\"There is {len(fileList)} number of  labelled\")"
   ]
  },
  {
   "cell_type": "code",
   "execution_count": 51,
   "metadata": {
    "ExecuteTime": {
     "end_time": "2021-11-07T02:49:29.711051Z",
     "start_time": "2021-11-07T02:49:29.514349Z"
    }
   },
   "outputs": [
    {
     "name": "stdout",
     "output_type": "stream",
     "text": [
      "finish moving lablled scooter images\n"
     ]
    }
   ],
   "source": [
    "# move the images to a new location\n",
    "sourcePath = '/Users/zhiying/OneDrive - The City College of New York/capstone project/Traffic_Video_1_Scooter'\n",
    "dstPath = '/Users/zhiying/OneDrive - The City College of New York/capstone project/Traffic_Video_1_Scooter_Labelled'\n",
    "\n",
    "# print(path)\n",
    "for count, filename in enumerate(fileList):\n",
    "    dst = filename # destination\n",
    "    src = sourcePath + \"/\" + filename # source\n",
    "    dst = dstPath + \"/\" + dst\n",
    "    os.rename(src,dst)\n",
    "print(\"finish moving lablled scooter images\")"
   ]
  },
  {
   "cell_type": "code",
   "execution_count": null,
   "metadata": {},
   "outputs": [],
   "source": []
  }
 ],
 "metadata": {
  "hide_input": false,
  "kernelspec": {
   "display_name": "Python 3",
   "language": "python",
   "name": "python3"
  },
  "language_info": {
   "codemirror_mode": {
    "name": "ipython",
    "version": 3
   },
   "file_extension": ".py",
   "mimetype": "text/x-python",
   "name": "python",
   "nbconvert_exporter": "python",
   "pygments_lexer": "ipython3",
   "version": "3.8.3"
  },
  "toc": {
   "base_numbering": 1,
   "nav_menu": {},
   "number_sections": true,
   "sideBar": true,
   "skip_h1_title": false,
   "title_cell": "Table of Contents",
   "title_sidebar": "Contents",
   "toc_cell": false,
   "toc_position": {},
   "toc_section_display": true,
   "toc_window_display": false
  }
 },
 "nbformat": 4,
 "nbformat_minor": 4
}
